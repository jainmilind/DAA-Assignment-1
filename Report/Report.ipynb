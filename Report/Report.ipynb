{
 "cells": [
  {
   "attachments": {},
   "cell_type": "markdown",
   "id": "6d5b4f43",
   "metadata": {},
   "source": [
    "# DAA Assignment\n",
    "\n",
    "## Team Members\n",
    "\n",
    "<style>\n",
    "td, th {\n",
    "   border: none!important;\n",
    "}\n",
    "</style>\n",
    "\n",
    "|NAME|ID|\n",
    "|----------|-----------|\n",
    "|Milind Jain       |            2020A7PS0153H|\n",
    "|Mokshith Naidu Thakkilapati |  2020A7PS1885H|\n",
    "|Anish Kumar Kallepalli    |   2020A7PS0282H|\n",
    "|Sriram Srivatsan         |      2020A7PS0273H|\n",
    "\n",
    "\n",
    "\n"
   ]
  },
  {
   "attachments": {},
   "cell_type": "markdown",
   "id": "e3ac76c4",
   "metadata": {},
   "source": [
    "## Introduction\n",
    "\n",
    "A convex polygon is a closed two-dimensional shape that has straight sides and no angles pointing inward (i.e., all of its interior angles are less than 180 degrees). In other words, a convex polygon is a polygon where any line segment drawn between any two points inside the polygon lies entirely within the polygon. Some examples of convex polygons include triangles, squares, rectangles, pentagons, hexagons, and octagons. \n",
    "\n",
    "The most appropriate kind of sets into which the polygon can be decomposed is convex polygons, for both their easy analytical writing and good optimization properties.\n",
    "\n",
    "The algorithm uses a strategy called \"divide and conquer\" to solve the problem. A list of vertices provides the entire polygon that needs to be decomposed. After an initial vertex has been provided, a convex polygon of the partition is generated using a procedure and is cut off from the initial polygon. This process is repeated with the remaining polygon until it is convex, at which point it will be the final polygon of the partition. Then we merge the convex polygon such that after merging, it stays as a convex polygon only.\n"
   ]
  },
  {
   "attachments": {},
   "cell_type": "markdown",
   "id": "f4dd5bcb",
   "metadata": {},
   "source": [
    "## Problem Statement\n",
    "\n",
    "We are supposed to implement the algorithm in the paper: *[1]Fernández, J., Cánovas, L., & Pelegrın, B. (2000). Algorithms for the decomposition of a polygon into ́convex polygons. European Journal of Operational Research, 121(2), 330-342.*\n",
    "\n",
    "We should build a data structure, namely Doubly Connected Edge Lists (DCEL) to store the polygon decompositions. The algorithms will help in decomposing an arbitrary polygon into a set of Convex polygons. We must test the code using many datasets and implement a small drawing application to visualize our output using Python Code."
   ]
  },
  {
   "attachments": {},
   "cell_type": "markdown",
   "id": "b2e6eb2f",
   "metadata": {},
   "source": [
    "## Algorithm\n",
    "\n",
    "### Decomposition\n",
    "This takes a polygon stored in DCEL data structure format. It is used to decompose the polygon into convex polygons using the MP1 algorithm. First, we start with the initial vertex of the polygon. We perform the following operations while the size of the polygon is greater than 3 as a polygon with a size 3 or less cannot be decomposed further. $L[m]$ will denote the list L containing the vertices of the convex polygon at the m-th iteration. At a point, we check a few conditions based on angles mentioned in the paper to append the i-th vertex into  $L[m]$ such that it can contain not more than n elements. Then we get all the present notches (which are the vertices of a polygon displaying a reflex angle). We remove notches that are a part of $L[m]$. Then we make use of a deque, namely $lpvs$ which has all the current notches after the removal of the vertices. Then we form a rectangle of minimum area that encloses all the points of $L[m]$ and check for notches present inside this rectangle. For tyhe notches present in the rectangle, we check if the notch is present inside the polygon. If it is present inside, we form a semi-plane using the first vertex of $L[m]$ and the notch, and then remove all points that are on the same side as the last element of $L[m]$. We repeat the same for all the remaining vertices till there are no more notches present inside the polygon or if the polygon only contains two points(as a polygon should contain at least 3 points). Then we check if the polygon contains at least three points and it is not the entire polygon we split it and update n accordingly.<br> Time Complexity of decompostion is $O(n^2logn)$ ,where n is number of points in input."
   ]
  },
  {
   "attachments": {},
   "cell_type": "markdown",
   "id": "f7882d50",
   "metadata": {},
   "source": [
    "### Merging\n",
    "\n",
    "When two convex polygons share a diagonal and follow few conditions, they can be combined to form a single polygon. Hence the diagonals in the partitions are not always necessary. For this reason, we've come up with a merging technique that may be applied following any partitioning method that results in superfluous diagonals.\n",
    "First, we defined lle which contains the list of all the diagonals. Then we defined a map, namely lp, which stores the key as a vertex and values as a set of pair of a vertex and a face. Then we initialized the lp with values. Then we define two more maps, namely ftoi which stores the face as the key and an integer as the value, and itof which stores an integer as the key and face as the value. Then we initialized ftoi, itof with the values. We store the number of polygons in np and m as np-1. Then we initialized ldp which tells if a polygon is present in the final polygon or not. Then we initialized lup which stores the polygon of which the current polygon is part of. Then we checked based on a few conditions in the paper, whether we could merge two polygons or not. If the condition is matched then we upgrade the values of ldp of those two polygons as false by making them false and then adding a true value for the new polygon formed. Then we upgrade the value of the two polygons in lup as it would be part of a new polygon and add a new value to a lup for the new polygon formed. When we merge 3 or more polygons into 1 we make sure that all the polygons belong to the new polygon formed by upgrading the value of lup. Then we make a new vector of faces having a list of final merged faces, and based on the value of ldp we add it to the list. Then we equate the present faces of polygon with the list of merged faces.<br> Time Complexity of merging is $O(n + p^2log p)$ ,where n is number of points in input and p is the number of polygons after decompostion."
   ]
  },
  {
   "attachments": {},
   "cell_type": "markdown",
   "id": "8edafe0e",
   "metadata": {},
   "source": [
    "<img src=\"polygon.png\" align=\"right\" height=\"120\" width=\"120\"/>\n",
    "\n",
    "#### Initial Polygon\n",
    "This is the polygon before decomposition."
   ]
  },
  {
   "attachments": {},
   "cell_type": "markdown",
   "id": "5d07fcde",
   "metadata": {},
   "source": [
    "<img src=\"decompose.png\" align=\"left\" height=\"120\" width=\"120\"/>\n",
    "\n",
    "<h4 style=\"text-align: right;\">Decomposed Polygon</h4>\n",
    "<div style=\"text-align: right\"> \n",
    "This is the polygon before decomposition.\n",
    "</div>"
   ]
  },
  {
   "attachments": {},
   "cell_type": "markdown",
   "id": "d9f20b10",
   "metadata": {},
   "source": [
    "<img src=\"merge.png\" align=\"right\" height=\"120\" width=\"120\"/>\n",
    "\n",
    "#### Merged Polygon\n",
    "This is the polygon after merging."
   ]
  },
  {
   "attachments": {},
   "cell_type": "markdown",
   "id": "55711e6b",
   "metadata": {},
   "source": [
    "## Classes\n"
   ]
  },
  {
   "attachments": {},
   "cell_type": "markdown",
   "id": "03ca75d3",
   "metadata": {},
   "source": [
    "### DCEL\n",
    "#### Public Member Functions\n",
    "```\n",
    "DCEL()\n",
    "```\n",
    "\n",
    "This is a default constructor of DCEL class.<br> Time Complexity is $O(1)$.\n",
    "\n",
    "```\n",
    "DCEL(std::vector<std::pair<double,double> > &) \n",
    "```\n",
    "\n",
    "This is a constructor of DCEL class which constructs DCEL with all the vertices. <br> Time complexity is $O(n)$ ,where n is number of points in input.\n",
    "\n",
    "```\n",
    "void DCEL::split(Vertex *v1, Vertex *v2)\n",
    "```\n",
    "\n",
    "This function takes two vertices and splits the face based on the edge connecting both the vertices.<br> Time Complexity is $O(h)$ ,where h is number of points of polygon.\n",
    "\n",
    "```\n",
    "Face *DCEL::unite(Face *f1, Face *f2)\n",
    "```\n",
    "\n",
    "This function is used to combine two faces returns the final combined face.<br> Time Complexity is $O(h1+h2)$ ,where h1 and h2 is number of points in polygon 1 and 2 respectively.\n",
    "\n",
    "```\n",
    "Face *DCEL::unite(HalfEdge *e)\n",
    "```\n",
    "\n",
    "This function is used to combine two faces with an HalfEdge as input and it combine both the faces on either side of the HalfEdge and returns the final combined face.<br> Time Complexity is $O(h1+h2)$ ,where h1 and h2 is number of points in polygon 1 and 2 respectively.\n",
    "\n",
    "```\n",
    "void DCEL::print()\n",
    "```\n",
    "\n",
    "It function is used to prints all the vertices of the DCEL.<br> Time Complexity is $O(n)$ ,where n is number of points in input.\n",
    "#### Public Attributes\n",
    "\n",
    "```\n",
    "std::vector<HalfEdge *> edges\n",
    "```\n",
    "\n",
    "This is the list of all halfedges present in the DCEL.\n",
    "\n",
    "```\n",
    "std::vector<Vertex *> corr\n",
    "```\n",
    "\n",
    "This is the list of coordinates of the DCEL.\n",
    "\n",
    "```\n",
    "std::vector<Face *> faces\n",
    "```\n",
    "\n",
    "This is the list of all faces present in DCEL.\n"
   ]
  },
  {
   "attachments": {},
   "cell_type": "markdown",
   "id": "90dd51a0",
   "metadata": {},
   "source": [
    "### Face\n",
    "#### Public Member Functions\n",
    "```\n",
    "Face()\n",
    "```\n",
    "This is a default constructor of Face class.<br> Time Complexity is $O(1)$.\n",
    "\n",
    "```\n",
    "Face(HalfEdge *)\n",
    "```\n",
    "This is a parameterized constructor of Face class and takes HalfEdge as a paramter.<br> Time Complexity is $O(1)$.\n",
    "\n",
    "```\n",
    "std::vector<Vertex *> enumerate_all_vertices()\n",
    "```\n",
    "This is a method in Face class It returns the list of all the vertices present in a face.<br> Time Complexity is $O(h)$ ,where h is number of points of polygon.\n",
    "\n",
    "#### Public Attributes\n",
    "```\n",
    "HalfEdge* edge = NULL\n",
    "```\n",
    "This is any edge of face in clockwise order."
   ]
  },
  {
   "attachments": {},
   "cell_type": "markdown",
   "id": "35eee532",
   "metadata": {},
   "source": [
    "### HalfEdge\n",
    "#### Public Member Functions\n",
    "```\n",
    "HalfEdge()\n",
    "```\n",
    "This is a default constructor of HalfEdge class.<br> Time Complexity is $O(1)$.\n",
    "\n",
    "```\n",
    "HalfEdge(Vertex *, Vertex *)\n",
    "```\n",
    "This is a constructor of HalfEdge class that creates a HalfEdge between two vertices.<br> Time Complexity is $O(1)$.\n",
    "\n",
    "```\n",
    "HalfEdge(HalfEdge *, Vertex *)\n",
    "```\n",
    "This is a constructor of HalfEdge class that creates a HalfEdge between a halfedge and a vertex.<br> Time Complexity is $O(1)$.\n",
    "```\n",
    "HalfEdge(HalfEdge *, HalfEdge *)\n",
    "```\n",
    "This is a constructor of HalfEdge class that creates a HalfEdge between two halfedges.<br> Time Complexity is $O(1)$.\n",
    " \n",
    "#### Public Attributes\n",
    "```\n",
    "Vertex* org = NULL\n",
    "```\n",
    "This is the source vertex of the HalfEdge.\n",
    " \n",
    "```\n",
    "Face* face = NULL\n",
    "```\n",
    "This is the face pointing the clockwise direction.\n",
    " \n",
    "```\n",
    "HalfEdge* twin = NULL\n",
    "```\n",
    "This is the halfedge in opposite direction.\n",
    "\n",
    "```\n",
    "HalfEdge* nxt = NULL\n",
    "```\n",
    "This is the next halfedge in the same order.\n",
    "\n",
    "```\n",
    "HalfEdge* prev = NULL\n",
    "```\n",
    "This is the previous halfedge in the same order."
   ]
  },
  {
   "attachments": {},
   "cell_type": "markdown",
   "id": "6f21862a",
   "metadata": {},
   "source": [
    "### Rectangle\n",
    "#### Public Member Functions\n",
    "```\n",
    "Rectangle()\n",
    "```\n",
    "This is a default constructor of Rectangle class.<br> Time Complexity is $O(1)$.\n",
    "\n",
    "```\n",
    "Rectangle(double, double, double, double)\n",
    "```\n",
    "This is a constructor of Rectangle class which generates the rectangle.<br> Time Complexity is $O(1)$.\n",
    "\n",
    "#### Public Attributes\n",
    "```\n",
    "double lx\n",
    "```\n",
    "This is the lower left x-coordinate.\n",
    "\n",
    "```\n",
    "double ly\n",
    "```\n",
    "This is the lower left y-coordinate.\n",
    "\n",
    "```\n",
    "double ux\n",
    "```\n",
    "This is the upper right x-coordinate.\n",
    "\n",
    "```\n",
    "double uy\n",
    "```\n",
    "This is the upper right y-coordinate."
   ]
  },
  {
   "attachments": {},
   "cell_type": "markdown",
   "id": "a7b7292a",
   "metadata": {},
   "source": [
    "### Vertex\n",
    "#### Public Member Functions\n",
    "```\n",
    "Vertex ()\n",
    "```\n",
    "This is a default constructor of Vertex class.<br> Time Complexity is $O(1)$.\n",
    "\n",
    "```\n",
    "Vertex(double, double)\n",
    "```\n",
    "This is a constructor of Vertex class that initializes the x and y coordinates of that vertex.<br> Time Complexity is $O(1)$.\n",
    " \n",
    "#### Public Attributes\n",
    "```\n",
    "HalfEdge* leave = NULL\n",
    "```\n",
    "This is the HalfEdge leaving from the vertex.\n",
    "\n",
    "```\n",
    "double x = 0\n",
    "```\n",
    "This is the x-coordinate of the vertex.\n",
    "\n",
    "```\n",
    "double y = 0\n",
    "```\n",
    "This is the y-coordinate of the vertex."
   ]
  },
  {
   "attachments": {},
   "cell_type": "markdown",
   "id": "85c0be33",
   "metadata": {},
   "source": [
    "## Helper Functions"
   ]
  },
  {
   "attachments": {},
   "cell_type": "markdown",
   "id": "da5f509d",
   "metadata": {},
   "source": [
    "```\n",
    "double angle(Vertex *a, Vertex *b, Vertex *c)\n",
    "```\n",
    "\n",
    "his function is used to calculate the angle in degrees formed between 3 verticles in the anti-clockwise direction with pivot as the middle vertex \n",
    "<br>Time complexity is $O(1)$.\n"
   ]
  },
  {
   "attachments": {},
   "cell_type": "markdown",
   "id": "d712f7bb",
   "metadata": {},
   "source": [
    "```\n",
    "bool is_convex_angle(Vertex *v)\n",
    "```\n",
    "\n",
    "This function is used to check if the given angle at a vertex is convex or not.<br> Time Complexity is $O(1)$.\n"
   ]
  },
  {
   "attachments": {},
   "cell_type": "markdown",
   "id": "5455cc56",
   "metadata": {},
   "source": [
    "```\n",
    "Rectangle get_rectangle(std::vector<Vertex *> &vertices)\n",
    "```\n",
    "\n",
    "This function returns a rectangle that is the smallest rectangle enclosing all the veritices provided as input.<br> Time Complexity is $O(1)$."
   ]
  },
  {
   "attachments": {},
   "cell_type": "markdown",
   "id": "f945d5c1",
   "metadata": {},
   "source": [
    "```\n",
    "bool is_inside_rectangle(Rectangle &rectangle, Vertex *v)\n",
    "```\n",
    "\n",
    "This function is used to check if a particular point is present in the rectangle.<br> Time Complexity is $O(1)$.\n"
   ]
  },
  {
   "attachments": {},
   "cell_type": "markdown",
   "id": "1f7f2432",
   "metadata": {},
   "source": [
    "```\n",
    "bool is_inside_polygon(std::vector<Vertex *> &polygon, Vertex *v)\n",
    "```\n",
    "\n",
    "This function is used to check if a particular point is present a polygon generated by the given set of vertices.<br> Time Complexity is $O(h)$ ,where h is number of points of polygon."
   ]
  },
  {
   "attachments": {},
   "cell_type": "markdown",
   "id": "1abed63c",
   "metadata": {},
   "source": [
    "```\n",
    "std::array<double, 3> findLine(Vertex *v1, Vertex *v2)\n",
    "```\n",
    "\n",
    "This function is used to get the line between two vertices, it returns an array having the coefficients of the line.<br> Time Complexity is $O(1)$."
   ]
  },
  {
   "attachments": {},
   "cell_type": "markdown",
   "id": "f215acf6",
   "metadata": {},
   "source": [
    "```\n",
    "bool onSameSide(Vertex *v1, Vertex *v2, Vertex *a, Vertex *b)\n",
    "```\n",
    "\n",
    "This function is used to check if two points a and b lie on the same side of the line formed by joining vertex v1 and vertex v2.<br> Time Complexity is $O(1)$.\n"
   ]
  },
  {
   "attachments": {},
   "cell_type": "markdown",
   "id": "bb18a93b",
   "metadata": {},
   "source": [
    "```\n",
    "std::set<Vertex *> get_notches(Face *face)\n",
    "```\n",
    "\n",
    "This function is used to get the notches present in a face.<br> Time Complexity is $O(h)$ ,where h is number of points of polygon.\n"
   ]
  },
  {
   "attachments": {},
   "cell_type": "markdown",
   "id": "4fa925c3",
   "metadata": {},
   "source": [
    "```\n",
    "Vertex *getNextVertex(Vertex *v, Face *f)\n",
    "```\n",
    "\n",
    "This function is used to retrieve the next vertex to a given vertex on a given face.<br> Time Complexity is $O(h)$ ,where h is number of points of polygon.\n"
   ]
  },
  {
   "attachments": {},
   "cell_type": "markdown",
   "id": "fffea5da",
   "metadata": {},
   "source": [
    "```\n",
    "Vertex *getPrevVertex(Vertex *v, Face *f)\n",
    "```\n",
    "\n",
    "This function is used to retrieve the previous vertex to a given vertex on a given face.<br> Time Complexity is $O(h)$ ,where h is number of points of polygon.\n"
   ]
  },
  {
   "attachments": {},
   "cell_type": "markdown",
   "id": "c9be2d09",
   "metadata": {},
   "source": [
    "```\n",
    "bool isLinear(Vertex *v1, Vertex *v2, Vertex *v3)\n",
    "```\n",
    "\n",
    "This function is used to check if three points are collinear.<br> Time Complexity is $O(1)$.\n"
   ]
  },
  {
   "attachments": {},
   "cell_type": "markdown",
   "id": "217c7eaa",
   "metadata": {},
   "source": [
    "## Analysis and Conclusions\n"
   ]
  },
  {
   "attachments": {},
   "cell_type": "markdown",
   "id": "8697de1a",
   "metadata": {},
   "source": [
    "We have decomposed the polygons using the above mentioned algorithms such as the decomposition and merging to generate the polygons of the partitions We ran our code on many datasets of polygons including a list of all the countries represented as a polygon with a set of vertices.For the sake of brevity, we do not present the results individually for every the polygon.\n",
    "\n",
    "We have used a visualizer program which allows use to view the polygon after it is decomposed to convex polygons. This are some of the results we have gathered by running our code on the polygon diagram of some countries, such as Japan, Ukraine, India, USA, Canada, Russia which have 37, 98, 136, 233, 272, 447 vertices respectively.\n",
    "\n",
    "All the codes were implemented on g++ (MinGW.org GCC Build-2) 9.2.0 and run on a PC with a processor Processor 12th Gen Intel(R) Core(TM) i7-12700H with a 2.30 GHz speed.\n",
    "<br>\n"
   ]
  },
  {
   "attachments": {},
   "cell_type": "markdown",
   "id": "757a728a",
   "metadata": {},
   "source": [
    "#### Japan: <br>\n",
    "\n",
    "<img src=\"Japan.png\" align=\"right\" height=\"150\" width=\"200\"/>\n",
    "Number of notches: 15 <br>\n",
    "Number of vertices: 37 <br>\n",
    "Number of faces after decomposition: 19 <br>\n",
    "Number of faces after merging: 16 <br>\n",
    "Time for decomposing is: 0.999 ms <br>\n",
    "Time for merging is: 0 ms\n"
   ]
  },
  {
   "attachments": {},
   "cell_type": "markdown",
   "id": "19e5e17c",
   "metadata": {},
   "source": [
    "#### Ukraine: <br>\n",
    "\n",
    "<img src=\"Ukraine.png\" align=\"right\" height=\"200\" width=\"300\"/>\n",
    "Number of notches: 46 <br>\n",
    "Number of vertices: 98 <br>\n",
    "Number of faces after decomposition: 54 <br>\n",
    "Number of faces after merging: 41 <br>\n",
    "Time for decomposing is: 2.306 ms <br>\n",
    "Time for merging is: 0 ms\n"
   ]
  },
  {
   "attachments": {},
   "cell_type": "markdown",
   "id": "28dc63c5",
   "metadata": {},
   "source": [
    "#### India: <br>\n",
    "\n",
    "<img src=\"India.png\" align=\"right\" height=\"150\" width=\"150\"/>\n",
    "Number of notches: 66 <br>\n",
    "Number of vertices: 136 <br>\n",
    "Number of faces after decomposition: 75 <br>\n",
    "Number of faces after merging: 53 <br>\n",
    "Time for decomposing is: 4.508 ms <br>\n",
    "Time for merging is: 0.912 ms\n"
   ]
  },
  {
   "attachments": {},
   "cell_type": "markdown",
   "id": "550a88f1",
   "metadata": {},
   "source": [
    "#### USA: <br>\n",
    "\n",
    "<img src=\"USA.png\" align=\"right\" height=\"200\" width=\"300\"/>\n",
    "Number of notches: 111 <br>\n",
    "Number of vertices: 233 <br>\n",
    "Number of faces after decomposition: 112 <br>\n",
    "Number of faces after merging: 82 <br>\n",
    "Time for decomposing is: 13.549 ms <br>\n",
    "Time for merging is: 2.055 ms\n"
   ]
  },
  {
   "attachments": {},
   "cell_type": "markdown",
   "id": "3b19e54c",
   "metadata": {},
   "source": [
    "#### Canada: <br>\n",
    "\n",
    "<img src=\"Canada.png\" align=\"right\" height=\"200\" width=\"300\"/>\n",
    "Number of notches: 130 <br>\n",
    "Number of vertices: 272 <br>\n",
    "Number of faces after decomposition: 144 <br>\n",
    "Number of faces after merging: 107 <br>\n",
    "Time for decomposing is: 15.01 ms <br>\n",
    "Time for merging is: 1.007 ms\n"
   ]
  },
  {
   "attachments": {},
   "cell_type": "markdown",
   "id": "dee95eb3",
   "metadata": {},
   "source": [
    "#### Russia: <br>\n",
    "\n",
    "<img src=\"Russia.png\" align=\"right\" height=\"150\" width=\"300\"/>\n",
    "Number of notches: 215 <br>\n",
    "Number of vertices: 447 <br>\n",
    "Number of faces after decomposition: 256 <br>\n",
    "Number of faces after merging: 186 <br>\n",
    "Time for decomposing is: 46.874 ms <br>\n",
    "Time for merging is: 7.051 ms\n",
    "<br>\n",
    "<br>\n"
   ]
  },
  {
   "attachments": {},
   "cell_type": "markdown",
   "id": "61a09304",
   "metadata": {},
   "source": [
    "| Polygon | Vertices | Notches | Polygons | Dec. time | Merg. poly. | Merg. time |\n",
    "| ------- | -------- | ------- | -------- | --------- | ----------- | ---------- |\n",
    "| Japan   | 37       | 15      | 19       | 0.999 ms  | 16          | 0 ms       |\n",
    "| Ukraine | 98       | 46      | 54       | 2.306 ms  | 41          | 0 ms       |\n",
    "| India   | 136      | 66      | 75       | 4.508 ms  | 53          | 0.912 ms   |\n",
    "| USA     | 233      | 111     | 112      | 13.549 ms | 82          | 2.055 ms   |\n",
    "| Canada  | 272      | 130     | 144      | 15.01 ms  | 107         | 1.007 ms   |\n",
    "| Russia  | 447      | 215     | 256      | 46.874 ms | 186         | 7.051 ms   |\n"
   ]
  },
  {
   "attachments": {},
   "cell_type": "markdown",
   "id": "23cf3139",
   "metadata": {},
   "source": [
    "<br>\n",
    "We can conclude from our observations that as the number of vertices increases the time taken to decompose and merge the polygons increases. From the images we can conclude that the polygons are all convex. Hence we can conclude the implementation of the algorithm was correct.\n"
   ]
  },
  {
   "attachments": {},
   "cell_type": "markdown",
   "id": "d749cbff",
   "metadata": {},
   "source": [
    "## References\n",
    "\n",
    "*Fernández, J., Cánovas, L., & Pelegrın, B. (2000). Algorithms for the decomposition of a polygon into convex polygons. European Journal of Operational Research, 121(2), 330-342.*\n",
    "\n",
    "*Mount, David M. \"CMSC 754 Computational geometry.\" Lecture Notes, University of Maryland (2002): 1-122.*"
   ]
  }
 ],
 "metadata": {
  "kernelspec": {
   "display_name": "Python 3",
   "language": "python",
   "name": "python3"
  },
  "language_info": {
   "codemirror_mode": {
    "name": "ipython",
    "version": 3
   },
   "file_extension": ".py",
   "mimetype": "text/x-python",
   "name": "python",
   "nbconvert_exporter": "python",
   "pygments_lexer": "ipython3",
   "version": "3.11.0"
  }
 },
 "nbformat": 4,
 "nbformat_minor": 5
}
